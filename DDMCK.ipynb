{
 "cells": [
  {
   "cell_type": "code",
   "execution_count": 21,
   "metadata": {},
   "outputs": [
    {
     "name": "stdout",
     "output_type": "stream",
     "text": [
      "2.7.14 |Anaconda custom (64-bit)| (default, Nov  8 2017, 16:45:25) \n",
      "[GCC 4.2.1 Compatible Clang 4.0.1 (tags/RELEASE_401/final)]\n"
     ]
    }
   ],
   "source": [
    "import sys\n",
    "import os\n",
    "\n",
    "import numpy as np\n",
    "import scipy as sp\n",
    "import scipy.signal as sig\n",
    "\n",
    "import matplotlib as mpl\n",
    "import matplotlib.pyplot as plt\n",
    "import matplotlib.cm as cm\n",
    "\n",
    "import cvxopt\n",
    "import picos as pic\n",
    "\n",
    "\n",
    "print (sys.version)\n",
    " \n",
    "#sys.path.append(\"/Volumes/Macintosh\\ HD/Applications/Gurobi\\ 7.5.2.app/\")\n",
    "#pic.tools.available_solvers() "
   ]
  },
  {
   "cell_type": "code",
   "execution_count": 22,
   "metadata": {},
   "outputs": [],
   "source": [
    "#%%javascript\n",
    "#MathJax.Hub.Config({\n",
    "#      TeX: { equationNumbers: { autoNumber: \"AMS\" } }\n",
    "#    });"
   ]
  },
  {
   "cell_type": "markdown",
   "metadata": {},
   "source": [
    "# GPS Example"
   ]
  },
  {
   "cell_type": "markdown",
   "metadata": {},
   "source": [
    "In this document we consider the the GPS configuration control example. GPS is modelled first capturing the discrete and continuous state and input signals via Mixed Integer Programming (MIP). We also use MIP to capture the constraints and objectives of the problem. Later we will consider a MPC scheme where the objective is do the programming in an online fashion by utilising a receeding horizon control."
   ]
  },
  {
   "cell_type": "markdown",
   "metadata": {},
   "source": [
    "## Offline Mixed Integer Programming \n",
    "\n",
    "### Modelling\n",
    " Consider a GPS represented by $D_1$, with the configuration $Conf_1=[u_{SkyAngle},u_{Power}]^{\\top}$ where $u_{SkyAngle}$ represents the sky angle and $u_{Power}$ represents the on/off switch. The initial configuration at time $0$ is $Conf_1(0)=[10,1]$ meaning at the start the angle knob is located at $10$ degrees while the GPS is on.\n",
    "\n",
    " The state of the GPS, $S_1=[s_{NumSat},s_{Jam}]^{\\top}$, consists of number of satellites represented by $s_{NumSat}$ and jammed state $s_{Jam}$ that are initially at $S_1(0)=[0,1]$ meaning that at the start the GPS has no satellites and is jammed (which is consistent with the fact that GPS does not see satellites when jammed). The following is model that captures the relationship between the configuration and state of the GPS.\n",
    "\n",
    "The first model says that if GPS is not jammed it will remain unjammed in the next step.\n",
    "\\begin{equation}\n",
    "s_{Jam}(t+1) <=  s_{Jam}(t)\n",
    "\\end{equation}\n",
    "\n",
    " The next equation models the fact (assumption) that in the next time step GPS is recovered from the jammed state(i.e. $s_{Jam}(t+1)=0$) if it is sequentially configured to `off` followed by `on` configuration in the previous two time steps (i.e. $u_{Power}(t)=1$ and $u_{Power}(t-1) =0$). If reset is not performed correctly then at least one of the multipliers of M is one, meaning that there is a very big number (M) on the right hand side of the inequality, which renders the inequality trivial and not active. In a way this is the mathematical one way of representing if-then conditions. \n",
    "\\begin{equation}\n",
    "s_{Jam}(t+1)\\leq -2 + u_{Power}(t) + M*(1-u_{Power}(t)) + (1-u_{Power}(t-1))+ M*u_{Power}(t-1)\n",
    "\\end{equation}\n",
    "\n",
    "If GPS is jammed ($s_{Jam}(t) = 1$) and the reset is not performed then the GPS will remain jammed ($s_{Jam}(t+1)=1$). This condition although straightforward needs 3 predicates to be checked. The first one is that GPS is currently jammed. Reset not performed predicate itself consists of the logical OR operation on 2 predicates the GPS power on/off configuration on the current time step $u_{Power}(t)$ and that of the previous time step $u_{Power}(t-1)$.    \n",
    "Let us denote by $noreset(t) \\in \\{0,1\\}$ the signal that captures whether reset has been performed correctly. The next two inequalities capture how it works. Note that $\\epsilon>0$ is a very small number. One can verify by replacing the possible values for the variables to see that in fact the signal $noreset(t)=1$ captures when reset is not performed correctly. \n",
    "\\begin{equation}\n",
    "\\begin{split}\n",
    "&u_{Power}(t) - u_{Power}(t-1) <= (1 - noreset(t))\\\\\n",
    "&u_{Power}(t) - u_{Power}(t-1) >= \\epsilon + (-1 - \\epsilon) * noreset(t)\n",
    "\\end{split}\n",
    "\\end{equation}\n",
    "\n",
    "No we need to capture the logical AND condition of $noreset(t)$ and currently being jammed $s_{Jam}(t)$ which we represent via a new signal $jam_{noreset}(t)$. The following conditions govern the value of this signal. Again one can verify them by replacing values for the signals. \n",
    "\\begin{equation}\n",
    "\\begin{split}\n",
    "&-s_{Jam}(t) + jam_{noreset}(t) <= 0  \\\\\n",
    "&-noreset(t) + jam_{noreset}(t)  <= 0\\\\\n",
    "&s_{Jam}(t) + noreset(t) - jam_{noreset}(t)  <= 1  \n",
    "\\end{split}\n",
    "\\end{equation}\n",
    "Next, we can now capture the original relationship stating that if GPS is jammed and not done reset ($jam_{noreset}(t)=1$ then the GPS will remain jammed ($s_{Jam}(t+1)=1$).\n",
    "\\begin{equation}\n",
    "-s_{Jam}(t+1) + jam_{noreset}(t)  <= 0\n",
    "\\end{equation}\n",
    "\n",
    " The inequalities considered next captures how the number of satellites seen is affected by the jamming and sky angle configurations and the on/off status.\n",
    " Note that the disturbance $\\vert d(t) \\vert <2$ is not captured. Later on in the MPC section we show that the online feedback nature of MPC can deal with the disturbance by redoing the optimisation based on the feedback measured current state which is in fact subject to the disturbance $d$. We will provide an equation for how $d$ affects the actual number of satellites later in the MPC section. \n",
    "\\begin{equation}\n",
    "\\begin{split}\n",
    "& s_{NumSat}(t+1) <= s_{NumSat}(t) + \\alpha * (u_{SkyAngle}(t-1) - u_{SkyAngle}(t)) \\\\\n",
    "& s_{NumSat}(t+1)  \\leq   M*u_{Power}(t)\\\\\n",
    "& s_{NumSat}(t+1)  \\leq   M* (1- s_{Jam}(t))\\\\\n",
    "\\end{split}\n",
    "\\end{equation}  \n",
    "\n",
    " Note that in case either the GPS is off, $ u_{Power}(t)=0$, or jammed,$s_{Jam}(t)=1$, the second or the third inequalities above force the number of satellites seen in the next step to zero. \n",
    " \n",
    " Lastly we need equations that indicate to planner that playing with sky angle knob is useless when GPS is either off or in the jammed state.\n",
    "\\begin{equation}\n",
    "\\begin{split}\n",
    "& \\vert u_{SkyAngle}(t) - u_{SkyAngle}(t-1)\\vert <= M * u_{Power}(t) \\\\ \n",
    "& \\vert u_{SkyAngle}(t) - u_{SkyAngle}(t-1)\\vert <= M * (1- s_{Jam}(t)) \n",
    "\\end{split}\n",
    "\\end{equation}\n",
    " \n",
    "  \n",
    " \n",
    " \n",
    " Next we solve this problem subject to the aforementioned constraints and numerical values specified for this problem. The problem is readily in a format appropriate for a MILP solver in Python called PICOS. "
   ]
  },
  {
   "cell_type": "markdown",
   "metadata": {
    "collapsed": true
   },
   "source": [
    "Let us now create an instance prob of an optimization problem in PICOS\n",
    "\n"
   ]
  },
  {
   "cell_type": "code",
   "execution_count": 23,
   "metadata": {},
   "outputs": [],
   "source": [
    "#create a Problem instance (note that picos was imported at the top of this notebook)\n",
    "prob = pic.Problem()    "
   ]
  },
  {
   "cell_type": "markdown",
   "metadata": {},
   "source": [
    "Let us define the state and control variable next. Before that we need to consider a horizen for the optimisation problem and a time step in order to determine the size of these variables.\n",
    "Reference tutorial on PICOS : \n",
    "http://picos.zib.de/tuto.html#variables"
   ]
  },
  {
   "cell_type": "code",
   "execution_count": 24,
   "metadata": {},
   "outputs": [],
   "source": [
    "T = 10 # seconds, the time horizon of optimisation "
   ]
  },
  {
   "cell_type": "code",
   "execution_count": 25,
   "metadata": {},
   "outputs": [],
   "source": [
    "dt = 1 #seconds, the time step of optimisation "
   ]
  },
  {
   "cell_type": "code",
   "execution_count": 26,
   "metadata": {},
   "outputs": [],
   "source": [
    "#size of the storage for all the values of different signals\n",
    "# in the opt horizon and per step time (needs to be integer)\n",
    "ssize = int(T/dt) "
   ]
  },
  {
   "cell_type": "markdown",
   "metadata": {},
   "source": [
    "\n",
    "Next we define the state variables\n"
   ]
  },
  {
   "cell_type": "code",
   "execution_count": 27,
   "metadata": {},
   "outputs": [],
   "source": [
    "# num of sats per time step which is of type integer \n",
    "s_NumSat = prob.add_variable('s_NumSat', ssize, vtype = 'integer') "
   ]
  },
  {
   "cell_type": "code",
   "execution_count": 28,
   "metadata": {},
   "outputs": [],
   "source": [
    "#jammed/not jammed state per time step which is of type binary \n",
    "s_Jam = prob.add_variable('s_Jam', ssize, vtype = 'binary') "
   ]
  },
  {
   "cell_type": "markdown",
   "metadata": {},
   "source": [
    "\n",
    "Similarly, the control variables are given as\n"
   ]
  },
  {
   "cell_type": "code",
   "execution_count": 29,
   "metadata": {},
   "outputs": [],
   "source": [
    "# sky angle knob per time step which is of type continuous\n",
    "u_SkyAngle = prob.add_variable('u_SkyAngle', ssize, vtype = 'integer') "
   ]
  },
  {
   "cell_type": "code",
   "execution_count": 30,
   "metadata": {},
   "outputs": [],
   "source": [
    "# on/off knob per time step which is of type binary\n",
    "u_Power = prob.add_variable('u_Power', ssize, vtype = 'binary') "
   ]
  },
  {
   "cell_type": "markdown",
   "metadata": {},
   "source": [
    "\n",
    "Adding inititial conditions:\n"
   ]
  },
  {
   "cell_type": "markdown",
   "metadata": {},
   "source": [
    "\n",
    "Constraints can be added in the problem with the function add_constraint():\n"
   ]
  },
  {
   "cell_type": "code",
   "execution_count": 31,
   "metadata": {},
   "outputs": [],
   "source": [
    "# num of satellites seen is above zero\n",
    "prob.add_constraint( s_NumSat[:] >= 0)   \n",
    " # num of satellites seen is below 17\n",
    "prob.add_constraint( s_NumSat[:] <= 17) \n",
    "# sky angle knob goes up only up to 10 degrees\n",
    "prob.add_constraint( u_SkyAngle[:] <= 10)\n",
    "# sky angle knob goes down only up to 0 degrees\n",
    "prob.add_constraint( u_SkyAngle[:] >= 0)  \n",
    "                             "
   ]
  },
  {
   "cell_type": "markdown",
   "metadata": {},
   "source": [
    "\n",
    "Let us define some parameters (they are not variables and their values are provided by us).\n"
   ]
  },
  {
   "cell_type": "code",
   "execution_count": 32,
   "metadata": {},
   "outputs": [],
   "source": [
    "# this is the big M notation and 100 seems a big enough number for now\n",
    "M = 1000 \n"
   ]
  },
  {
   "cell_type": "markdown",
   "metadata": {},
   "source": [
    "First equation says that we need to wait 3 steps before we can change the jammed state. Second equation says that if GPS is not jammed it will remain unjammed for the planning period. If GPS is jammed the 6th constraint equation details how by resetting the GPS in the previous two steps we will transition to the unjammed state. \n"
   ]
  },
  {
   "cell_type": "code",
   "execution_count": 33,
   "metadata": {},
   "outputs": [],
   "source": [
    "# first two values are jammed signal are not controllable\n",
    "prob.add_constraint( s_Jam[1] == s_Jam[0] )\n",
    "\n",
    "\n",
    "       \n",
    "    \n",
    "    "
   ]
  },
  {
   "cell_type": "markdown",
   "metadata": {},
   "source": [
    "Next constraints captures how the number of satellites evolves in time albeit with some disturbance captures via the inequalities;"
   ]
  },
  {
   "cell_type": "code",
   "execution_count": 34,
   "metadata": {},
   "outputs": [],
   "source": [
    "# this new binary variable captures if reset was not done correctly \n",
    "noreset = prob.add_variable ('noreset', ssize, vtype = 'binary')\n",
    "prob.add_constraint( noreset[0] == 1) #noreset is initially active\n",
    "\n",
    "epsilon = .2\n",
    "\n",
    "# new variable to contain AND of being jammed\n",
    "#in the previous step and not having done reset either\n",
    "jam_noreset = prob.add_variable ('jam_noreset', ssize, vtype = 'binary')\n",
    "\n",
    "#jam_noreset is initially based on whether GPS is jammed initially\n",
    "prob.add_constraint( jam_noreset[0] == s_Jam[0]) \n",
    "\n",
    "for i in range (ssize-2):\n",
    "    \n",
    "    # if GPS is not jammed it will remain unjammed,\n",
    "    # even after we have managed to get it out the jammed state\n",
    "    prob.add_constraint( s_Jam[i+1] <=  s_Jam[i] )\n",
    "    \n",
    "    \n",
    " \n",
    "    \n",
    "    #equation relating sky angle to number of sats\n",
    "    prob.add_constraint( s_NumSat[i+2] <= s_NumSat[i+1] + 1 * (u_SkyAngle[i] - u_SkyAngle[i+1]) )\n",
    "    \n",
    "    #equation saying GPS_off will kill the sats\n",
    "    prob.add_constraint( s_NumSat[i] <= M * u_Power[i])\n",
    "\n",
    "    #equation saying GPS_Jammed will kill the sats\n",
    "    prob.add_constraint( s_NumSat[i] <= M * (1- s_Jam[i]))\n",
    "\n",
    "    #equation saying don't be an idiot changing the sky angle if GPS is off or if it is jammed \n",
    "    prob.add_constraint (abs(u_SkyAngle[i+1] - u_SkyAngle[i]) <= M * u_Power[i+1] )  \n",
    "    prob.add_constraint (abs(u_SkyAngle[i+1] - u_SkyAngle[i]) <= M * (1- s_Jam[i+1] ) )                    \n",
    "    \n",
    "    #equation saying how to reset GPS to get out of jammed state\n",
    "    prob.add_constraint( s_Jam[i+2] <= -1  + u_Power[i+1] - u_Power[i]  + M * (1-u_Power[i+1]) + M * u_Power[i])\n",
    "    \n",
    "    \n",
    "    \n",
    "    # noreset variable update\n",
    "    prob.add_constraint( u_Power[i+1] - u_Power[i] <= (1 - noreset[i+1]))\n",
    "    prob.add_constraint( u_Power[i+1] - u_Power[i] >= epsilon + (-1 - epsilon) * noreset[i+1])\n",
    "    \n",
    "    \n",
    "    # jammed and no reset variable update\n",
    "    prob.add_constraint( -s_Jam[i+1] + jam_noreset[i+1] <= 0  ) \n",
    "    prob.add_constraint( -noreset[i+1] + jam_noreset[i+1]  <= 0  ) \n",
    "    prob.add_constraint( s_Jam[i+1] + noreset[i+1] - jam_noreset[i+1]  <= 1  ) \n",
    "    \n",
    "    # if jammed and not done reset will remain jammed\n",
    "    prob.add_constraint( -s_Jam[i+2] + jam_noreset[i+1]  <= 0  ) \n",
    "    \n",
    "# these were not captured in the previous loop    \n",
    "prob.add_constraint( s_NumSat[1] <= s_NumSat[0])\n",
    "prob.add_constraint( s_Jam[ssize-1] <=  s_Jam[ssize-2] )\n",
    "\n",
    "prob.add_constraint( s_NumSat[ssize-1] <= M * (1- s_Jam[ssize-1]))\n",
    "prob.add_constraint( s_NumSat[ssize-2] <= M * (1- s_Jam[ssize-2]))\n",
    "\n",
    "prob.add_constraint( s_NumSat[ssize-1] <=  M * u_Power[ssize-1] )\n",
    "prob.add_constraint( s_NumSat[ssize-2] <=  M * u_Power[ssize-2] )\n",
    "\n",
    "prob.add_constraint (abs(u_SkyAngle[ssize-1] - u_SkyAngle[ssize-2]) <= M * u_Power[ssize-1])\n",
    "prob.add_constraint (abs(u_SkyAngle[ssize-1] - u_SkyAngle[ssize-2]) <= M * (1 - s_Jam[ssize-1]))                     \n"
   ]
  },
  {
   "cell_type": "markdown",
   "metadata": {},
   "source": [
    "The base problem is to solve for state and control variables such that at the end there are more than 4 satellites.\n",
    "The terminal constraint is added before that."
   ]
  },
  {
   "cell_type": "markdown",
   "metadata": {},
   "source": [
    "\n",
    "Adding initial conditions (constraints) as the last list of constraints so that we can easily find and replace them in the MPC later on:\n"
   ]
  },
  {
   "cell_type": "code",
   "execution_count": 35,
   "metadata": {},
   "outputs": [],
   "source": [
    "\n",
    "prob.add_list_of_constraints([s_NumSat[0] == 0,\n",
    "                              s_Jam[0] == 1,\n",
    "                              u_Power[0] == 1,\n",
    "                              u_SkyAngle[0] == 10],'initial conditions')\n"
   ]
  },
  {
   "cell_type": "code",
   "execution_count": 36,
   "metadata": {},
   "outputs": [
    {
     "name": "stdout",
     "output_type": "stream",
     "text": [
      "---------------------\n",
      "optimization problem  (MIQP):\n",
      "60 variables, 177 affine constraints, 17 nnz  in 1 quad constraints\n",
      "\n",
      "s_NumSat \t: (10, 1), integer\n",
      "u_Power \t: (10, 1), binary\n",
      "jam_noreset \t: (10, 1), binary\n",
      "noreset \t: (10, 1), binary\n",
      "s_Jam \t: (10, 1), binary\n",
      "u_SkyAngle \t: (10, 1), integer\n",
      "\n",
      "\tmaximize -2.0*(〈 u_SkyAngle[1:9] -|8.0| | u_SkyAngle[1:9] -|8.0| 〉) -0*〈 jam_noreset[1:9] | |1| 〉 -(3.0*(〈 s_NumSat[2:9] -|8.0| | s_NumSat[2:9] -|8.0| 〉)) -(3.0*(〈 s_NumSat[-1] -8.0 | s_NumSat[-1] -8.0 〉)) -1000.0*(〈 s_Jam[2] | s_Jam[3] 〉)\n",
      "such that\n",
      "  s_NumSat[:] > |0|\n",
      "  s_NumSat[:] < |17.0|\n",
      "  u_SkyAngle[:] < |10.0|\n",
      "  u_SkyAngle[:] > |0|\n",
      "  s_Jam[1] = s_Jam[0]\n",
      "  noreset[0] = 1.0\n",
      "  jam_noreset[0] = s_Jam[0]\n",
      "  s_Jam[1] < s_Jam[0]\n",
      "  s_NumSat[2] < s_NumSat[1] + 1.0*( u_SkyAngle[0] -u_SkyAngle[1] )\n",
      "  s_NumSat[0] < 1000.0*u_Power[0]\n",
      "  s_NumSat[0] < 1000.0*( -s_Jam[0] + 1.0 )\n",
      "  ||u_SkyAngle[1] -u_SkyAngle[0]|| < 1000.0*u_Power[1]\n",
      "  ||u_SkyAngle[1] -u_SkyAngle[0]|| < 1000.0*( -s_Jam[1] + 1.0 )\n",
      "  s_Jam[2] < u_Power[1] -1.0 -u_Power[0] + 1000.0*( -u_Power[1] + 1.0 ) + 1000.0*u_Power[0]\n",
      "  u_Power[1] -u_Power[0] < -noreset[1] + 1.0\n",
      "  u_Power[1] -u_Power[0] > ( -1.2 )*noreset[1] + 0.2\n",
      "  -s_Jam[1] + jam_noreset[1] < 0\n",
      "  -noreset[1] + jam_noreset[1] < 0\n",
      "  s_Jam[1] + noreset[1] -jam_noreset[1] < 1.0\n",
      "  -s_Jam[2] + jam_noreset[1] < 0\n",
      "  s_Jam[2] < s_Jam[1]\n",
      "  s_NumSat[3] < s_NumSat[2] + 1.0*( u_SkyAngle[1] -u_SkyAngle[2] )\n",
      "  s_NumSat[1] < 1000.0*u_Power[1]\n",
      "  s_NumSat[1] < 1000.0*( -s_Jam[1] + 1.0 )\n",
      "  ||u_SkyAngle[2] -u_SkyAngle[1]|| < 1000.0*u_Power[2]\n",
      "  ||u_SkyAngle[2] -u_SkyAngle[1]|| < 1000.0*( -s_Jam[2] + 1.0 )\n",
      "  s_Jam[3] < u_Power[2] -1.0 -u_Power[1] + 1000.0*( -u_Power[2] + 1.0 ) + 1000.0*u_Power[1]\n",
      "  u_Power[2] -u_Power[1] < -noreset[2] + 1.0\n",
      "  u_Power[2] -u_Power[1] > ( -1.2 )*noreset[2] + 0.2\n",
      "  -s_Jam[2] + jam_noreset[2] < 0\n",
      "  -noreset[2] + jam_noreset[2] < 0\n",
      "  s_Jam[2] + noreset[2] -jam_noreset[2] < 1.0\n",
      "  -s_Jam[3] + jam_noreset[2] < 0\n",
      "  s_Jam[3] < s_Jam[2]\n",
      "  s_NumSat[4] < s_NumSat[3] + 1.0*( u_SkyAngle[2] -u_SkyAngle[3] )\n",
      "  s_NumSat[2] < 1000.0*u_Power[2]\n",
      "  s_NumSat[2] < 1000.0*( -s_Jam[2] + 1.0 )\n",
      "  ||u_SkyAngle[3] -u_SkyAngle[2]|| < 1000.0*u_Power[3]\n",
      "  ||u_SkyAngle[3] -u_SkyAngle[2]|| < 1000.0*( -s_Jam[3] + 1.0 )\n",
      "  s_Jam[4] < u_Power[3] -1.0 -u_Power[2] + 1000.0*( -u_Power[3] + 1.0 ) + 1000.0*u_Power[2]\n",
      "  u_Power[3] -u_Power[2] < -noreset[3] + 1.0\n",
      "  u_Power[3] -u_Power[2] > ( -1.2 )*noreset[3] + 0.2\n",
      "  -s_Jam[3] + jam_noreset[3] < 0\n",
      "  -noreset[3] + jam_noreset[3] < 0\n",
      "  s_Jam[3] + noreset[3] -jam_noreset[3] < 1.0\n",
      "  -s_Jam[4] + jam_noreset[3] < 0\n",
      "  s_Jam[4] < s_Jam[3]\n",
      "  s_NumSat[5] < s_NumSat[4] + 1.0*( u_SkyAngle[3] -u_SkyAngle[4] )\n",
      "  s_NumSat[3] < 1000.0*u_Power[3]\n",
      "  s_NumSat[3] < 1000.0*( -s_Jam[3] + 1.0 )\n",
      "  ||u_SkyAngle[4] -u_SkyAngle[3]|| < 1000.0*u_Power[4]\n",
      "  ||u_SkyAngle[4] -u_SkyAngle[3]|| < 1000.0*( -s_Jam[4] + 1.0 )\n",
      "  s_Jam[5] < u_Power[4] -1.0 -u_Power[3] + 1000.0*( -u_Power[4] + 1.0 ) + 1000.0*u_Power[3]\n",
      "  u_Power[4] -u_Power[3] < -noreset[4] + 1.0\n",
      "  u_Power[4] -u_Power[3] > ( -1.2 )*noreset[4] + 0.2\n",
      "  -s_Jam[4] + jam_noreset[4] < 0\n",
      "  -noreset[4] + jam_noreset[4] < 0\n",
      "  s_Jam[4] + noreset[4] -jam_noreset[4] < 1.0\n",
      "  -s_Jam[5] + jam_noreset[4] < 0\n",
      "  s_Jam[5] < s_Jam[4]\n",
      "  s_NumSat[6] < s_NumSat[5] + 1.0*( u_SkyAngle[4] -u_SkyAngle[5] )\n",
      "  s_NumSat[4] < 1000.0*u_Power[4]\n",
      "  s_NumSat[4] < 1000.0*( -s_Jam[4] + 1.0 )\n",
      "  ||u_SkyAngle[5] -u_SkyAngle[4]|| < 1000.0*u_Power[5]\n",
      "  ||u_SkyAngle[5] -u_SkyAngle[4]|| < 1000.0*( -s_Jam[5] + 1.0 )\n",
      "  s_Jam[6] < u_Power[5] -1.0 -u_Power[4] + 1000.0*( -u_Power[5] + 1.0 ) + 1000.0*u_Power[4]\n",
      "  u_Power[5] -u_Power[4] < -noreset[5] + 1.0\n",
      "  u_Power[5] -u_Power[4] > ( -1.2 )*noreset[5] + 0.2\n",
      "  -s_Jam[5] + jam_noreset[5] < 0\n",
      "  -noreset[5] + jam_noreset[5] < 0\n",
      "  s_Jam[5] + noreset[5] -jam_noreset[5] < 1.0\n",
      "  -s_Jam[6] + jam_noreset[5] < 0\n",
      "  s_Jam[6] < s_Jam[5]\n",
      "  s_NumSat[7] < s_NumSat[6] + 1.0*( u_SkyAngle[5] -u_SkyAngle[6] )\n",
      "  s_NumSat[5] < 1000.0*u_Power[5]\n",
      "  s_NumSat[5] < 1000.0*( -s_Jam[5] + 1.0 )\n",
      "  ||u_SkyAngle[6] -u_SkyAngle[5]|| < 1000.0*u_Power[6]\n",
      "  ||u_SkyAngle[6] -u_SkyAngle[5]|| < 1000.0*( -s_Jam[6] + 1.0 )\n",
      "  s_Jam[7] < u_Power[6] -1.0 -u_Power[5] + 1000.0*( -u_Power[6] + 1.0 ) + 1000.0*u_Power[5]\n",
      "  u_Power[6] -u_Power[5] < -noreset[6] + 1.0\n",
      "  u_Power[6] -u_Power[5] > ( -1.2 )*noreset[6] + 0.2\n",
      "  -s_Jam[6] + jam_noreset[6] < 0\n",
      "  -noreset[6] + jam_noreset[6] < 0\n",
      "  s_Jam[6] + noreset[6] -jam_noreset[6] < 1.0\n",
      "  -s_Jam[7] + jam_noreset[6] < 0\n",
      "  s_Jam[7] < s_Jam[6]\n",
      "  s_NumSat[8] < s_NumSat[7] + 1.0*( u_SkyAngle[6] -u_SkyAngle[7] )\n",
      "  s_NumSat[6] < 1000.0*u_Power[6]\n",
      "  s_NumSat[6] < 1000.0*( -s_Jam[6] + 1.0 )\n",
      "  ||u_SkyAngle[7] -u_SkyAngle[6]|| < 1000.0*u_Power[7]\n",
      "  ||u_SkyAngle[7] -u_SkyAngle[6]|| < 1000.0*( -s_Jam[7] + 1.0 )\n",
      "  s_Jam[8] < u_Power[7] -1.0 -u_Power[6] + 1000.0*( -u_Power[7] + 1.0 ) + 1000.0*u_Power[6]\n",
      "  u_Power[7] -u_Power[6] < -noreset[7] + 1.0\n",
      "  u_Power[7] -u_Power[6] > ( -1.2 )*noreset[7] + 0.2\n",
      "  -s_Jam[7] + jam_noreset[7] < 0\n",
      "  -noreset[7] + jam_noreset[7] < 0\n",
      "  s_Jam[7] + noreset[7] -jam_noreset[7] < 1.0\n",
      "  -s_Jam[8] + jam_noreset[7] < 0\n",
      "  s_Jam[8] < s_Jam[7]\n",
      "  s_NumSat[9] < s_NumSat[8] + 1.0*( u_SkyAngle[7] -u_SkyAngle[8] )\n",
      "  s_NumSat[7] < 1000.0*u_Power[7]\n",
      "  s_NumSat[7] < 1000.0*( -s_Jam[7] + 1.0 )\n",
      "  ||u_SkyAngle[8] -u_SkyAngle[7]|| < 1000.0*u_Power[8]\n",
      "  ||u_SkyAngle[8] -u_SkyAngle[7]|| < 1000.0*( -s_Jam[8] + 1.0 )\n",
      "  s_Jam[9] < u_Power[8] -1.0 -u_Power[7] + 1000.0*( -u_Power[8] + 1.0 ) + 1000.0*u_Power[7]\n",
      "  u_Power[8] -u_Power[7] < -noreset[8] + 1.0\n",
      "  u_Power[8] -u_Power[7] > ( -1.2 )*noreset[8] + 0.2\n",
      "  -s_Jam[8] + jam_noreset[8] < 0\n",
      "  -noreset[8] + jam_noreset[8] < 0\n",
      "  s_Jam[8] + noreset[8] -jam_noreset[8] < 1.0\n",
      "  -s_Jam[9] + jam_noreset[8] < 0\n",
      "  s_NumSat[1] < s_NumSat[0]\n",
      "  s_Jam[9] < s_Jam[8]\n",
      "  s_NumSat[9] < 1000.0*( -s_Jam[9] + 1.0 )\n",
      "  s_NumSat[8] < 1000.0*( -s_Jam[8] + 1.0 )\n",
      "  s_NumSat[9] < 1000.0*u_Power[9]\n",
      "  s_NumSat[8] < 1000.0*u_Power[8]\n",
      "  ||u_SkyAngle[9] -u_SkyAngle[8]|| < 1000.0*u_Power[9]\n",
      "  ||u_SkyAngle[9] -u_SkyAngle[8]|| < 1000.0*( -s_Jam[9] + 1.0 )\n",
      "  [4 constraints (first: s_NumSat[0] = 0)]\n",
      "---------------------\n"
     ]
    }
   ],
   "source": [
    "\n",
    "\n",
    "# note that the objective function is not trivial and needs to be crafted carefully\n",
    "# The way it is now it is trying to push the system towards reference points:\n",
    "# 8 for the sky angle because I want to minimise multipath errors\n",
    "# and 8 for the number of satellites to position it well within having a fix.\n",
    "# other noteworthy points: s_NumSat[-1] represents the numSats at end of horizon\n",
    "# so I am putting extra penalty on that to make sure it is close to 8\n",
    "# Also note that I am heavily penalising if the jammed state is not recovered in 3\n",
    "# steps, which means the first two actions will make sure the GPS is off and then on\n",
    "# I am telling it don't leave this for any later than the first thing that you do\n",
    "\n",
    "ObjFunc = (-2* ((u_SkyAngle[1:ssize - 1] - 8)|(u_SkyAngle[1:ssize - 1] - 8))\n",
    "            - 0 * (jam_noreset[1:ssize - 1]|1) - 3*((s_NumSat[2:ssize-1] - 8)|(s_NumSat[2:ssize-1] - 8))\n",
    "            - 3 *((s_NumSat[-1]-8)|(s_NumSat[-1]-8)) - M * (s_Jam[2]|s_Jam[3]) )\n",
    "\n",
    "\n",
    "prob.set_objective('max', ObjFunc )\n",
    "print(prob)"
   ]
  },
  {
   "cell_type": "code",
   "execution_count": 37,
   "metadata": {},
   "outputs": [
    {
     "data": {
      "text/plain": [
       "{'gurobi_model': <gurobi.Model MIP instance Unnamed: 177 constrs, 60 vars, Parameter changes: OptimalityTol=1e-08, BarQCPConvTol=1e-08, LogFile=gurobi.log, OutputFlag=0>,\n",
       " 'obj': 1896.0,\n",
       " 'status': 'OPTIMAL',\n",
       " 'time': 0.0060651302337646484}"
      ]
     },
     "execution_count": 37,
     "metadata": {},
     "output_type": "execute_result"
    }
   ],
   "source": [
    "prob.solve(solver='gurobi',verbose=0)\n",
    "# note that the optimisation problem is solved fast enough\n",
    "# in 6 milliseconds!  "
   ]
  },
  {
   "cell_type": "code",
   "execution_count": 38,
   "metadata": {},
   "outputs": [
    {
     "data": {
      "image/png": "[encoded data removed]",
      "text/plain": [
       "<matplotlib.figure.Figure at 0x1165fcdd0>"
      ]
     },
     "metadata": {},
     "output_type": "display_data"
    },
    {
     "data": {
      "image/png": "[encoded data removed]",
      "text/plain": [
       "<matplotlib.figure.Figure at 0x1165dbf90>"
      ]
     },
     "metadata": {},
     "output_type": "display_data"
    },
    {
     "data": {
      "image/png": "[encoded data removed]",
      "text/plain": [
       "<matplotlib.figure.Figure at 0x116617410>"
      ]
     },
     "metadata": {},
     "output_type": "display_data"
    },
    {
     "data": {
      "image/png": "[encoded data removed]",
      "text/plain": [
       "<matplotlib.figure.Figure at 0x116617e50>"
      ]
     },
     "metadata": {},
     "output_type": "display_data"
    }
   ],
   "source": [
    "# Plotting the results\n",
    "\n",
    "plt.plot(prob.get_valued_variable('s_NumSat'))\n",
    "plt.ylabel('Number of Satellites')\n",
    "plt.xlabel('Time (Seconds)')\n",
    "plt.axis([0, ssize, 0, 17])\n",
    "plt.show()\n",
    "\n",
    "plt.plot(prob.get_valued_variable('s_Jam'), 'r')\n",
    "plt.ylabel('GPS Jam state')\n",
    "plt.xlabel('Time (Seconds)')\n",
    "plt.show()\n",
    "\n",
    "plt.plot(prob.get_valued_variable('u_SkyAngle'), 'k')\n",
    "plt.ylabel('Sky Angle Decision')\n",
    "plt.xlabel('Time (Seconds)')\n",
    "plt.axis([0, ssize, 0, 11])\n",
    "plt.show()\n",
    "\n",
    "plt.plot(prob.get_valued_variable('u_Power'), 'g')\n",
    "plt.ylabel('GPS On/Off  Decision')\n",
    "plt.xlabel('Time (Seconds)')\n",
    "plt.show()\n"
   ]
  },
  {
   "cell_type": "markdown",
   "metadata": {},
   "source": [
    "## The Model Perdictive Control  (MPC) Approach "
   ]
  },
  {
   "cell_type": "markdown",
   "metadata": {},
   "source": [
    "In this section we treat the bigger problem, by doing the previous optimisation at every time step in order to enable feedback control based on the current state and to build robustness with respect to the error in the actual number of satellites.  \n",
    "\n",
    "We consider a simulation where the actual number of satellites is modelled by the following equations.\n",
    "\\begin{equation}\\label{eq:transition}\n",
    "\\begin{split}\n",
    "& s_{NumSat}(t+1) =  (s_{NumSat}(t) + \\alpha (u_{SkyAngle}(t-1) - u_{SkyAngle}(t)) + d(t)) * (1-s_{Jam}(t)) * u_{Power}(t)\\\\\n",
    "& d(t) \\sim\\mathcal{U}(-2,2) \\\\\n",
    "& s_{Jam}(t) = \\left\\{\\begin{array}{ll}1 & \\mbox{if} \\; s_{Jam}(t-1)=0\\; \\mbox{ AND}\\; t =T_Sim/2\\\\\n",
    "                                           0 & \\mbox{if} \\; u_{Power}(t-1)=1\\; \\mbox{ AND}\\; u_{Power}(t-2)=0\\\\\n",
    "                                           s_{Jam}(t-1) & \\mbox{otherwise}\\end{array}\\right.     \n",
    "\\end{split}\n",
    "\\end{equation}\n",
    "In this equation, at every time step the disturbance signals $d(t)$ affects the number of satellites while the planner has no model of how it affects the satellites."
   ]
  },
  {
   "cell_type": "code",
   "execution_count": 39,
   "metadata": {},
   "outputs": [],
   "source": [
    "# actual simulation time horizon \n",
    "T_Sim = 40\n",
    "\n",
    "# size of the storage variables dt is the same as the time step for point optimisation\n",
    "size_Sim = int (T_Sim/dt )\n",
    "\n",
    "# the horizon for planning/optimisation\n",
    "T_Opt = 5\n",
    "\n",
    "# initialising the storage array for the variables of the problem\n",
    "s_NumSat_Sim = [0] * size_Sim\n",
    "s_NumSat_Sim_0  = 0\n",
    "s_NumSat_Sim[0] = s_NumSat_Sim_0\n",
    "s_NumSat_Sim[1] = s_NumSat_Sim_0\n",
    "\n",
    "\n",
    "s_NumSat_Plan = [0] * size_Sim\n",
    "s_NumSat_Plan_0  = 0\n",
    "s_NumSat_Plan[0] = s_NumSat_Plan_0\n",
    "s_NumSat_Plan[1] = s_NumSat_Plan_0\n",
    "\n",
    "s_Jam_Sim = [0] * size_Sim\n",
    "s_Jam_Sim_0 = 1\n",
    "s_Jam_Sim[0] = s_Jam_Sim_0\n",
    "s_Jam_Sim[1] = s_Jam_Sim_0\n",
    "\n",
    "\n",
    "s_Jam_Plan = [0] * size_Sim\n",
    "s_Jam_Plan_0 = 1\n",
    "s_Jam_Plan[0] = s_Jam_Plan_0\n",
    "s_Jam_Plan[1] = s_Jam_Plan_0\n",
    "\n",
    "\n",
    "\n",
    "u_Power_Sim = [0] * size_Sim\n",
    "u_Power_Sim_0 = 1\n",
    "u_Power_Sim[0] = u_Power_Sim_0\n",
    "\n",
    "\n",
    "u_SkyAngle_Sim = [0] * size_Sim\n",
    "u_SkyAngle_Sim_0 = 10\n",
    "u_SkyAngle_Sim[0] = u_SkyAngle_Sim_0\n",
    "\n",
    "\n",
    "\n",
    "    \n",
    "# this is the main loop of the simulation \n",
    "i = 0\n",
    "while (i <= size_Sim - T_Opt - 2):\n",
    "    \n",
    "    \n",
    "    # reset the variables of the solver\n",
    "    prob.reset_gurobi_instance()\n",
    "    \n",
    "    # remove the initial conditions for the solver\n",
    "    prob.remove_constraint((-1,))\n",
    "    \n",
    "    \n",
    "    \n",
    "\n",
    "    # add the updated states and variables for the initial conditions of the solver\n",
    "    prob.add_list_of_constraints([s_NumSat[0] == s_NumSat_Sim[i],\n",
    "                              s_Jam[0] == s_Jam_Sim[i],\n",
    "                              u_Power[0] == u_Power_Sim[i],\n",
    "                              u_SkyAngle[0] == u_SkyAngle_Sim[i]],'initial conditions')\n",
    "    \n",
    "    #solve for the next N steps\n",
    "    prob.solve(solver='gurobi',verbose=0)\n",
    "    \n",
    "    # this is the execution loop of the simulation in which for T_Opt steps\n",
    "    # the plan of the planner is applied to the GPS configurations\n",
    "    for j in range (T_Opt):\n",
    "        \n",
    "        \n",
    "        #reading the plan from the solver for two steps\n",
    "        u_SkyAngle_Sim[i+j] = int (prob.get_valued_variable ('u_SkyAngle')[j])\n",
    "        u_Power_Sim[i+j] = int(prob.get_valued_variable ('u_Power')[j])\n",
    "        \n",
    "        u_SkyAngle_Sim[i+j+1] = int(prob.get_valued_variable ('u_SkyAngle')[j+1])\n",
    "        u_Power_Sim[i+j+1] = int(prob.get_valued_variable ('u_Power')[j+1])\n",
    "\n",
    "        \n",
    "        #disturbance signal randint returns uniformly probable an integer between [lower upper) upper not included.  \n",
    "        d = np.random.randint(-2,3) \n",
    "        \n",
    "    \n",
    "        \n",
    "        # how the jam state is decided\n",
    "        nextJam = 0\n",
    "        \n",
    "        if (s_Jam_Sim[i + j+1]==0 and  (i + j+1) == size_Sim/2 ):\n",
    "            nextJam=1\n",
    "        elif ( u_Power_Sim[i+j+1]==1 and u_Power_Sim[i+j]==0 ):\n",
    "            nextJam = 0\n",
    "        else :\n",
    "            nextJam = s_Jam_Sim[i+j+1]\n",
    "        s_Jam_Sim[i+j+2] = nextJam\n",
    "        \n",
    "        \n",
    "        # how the actual number of satellites is decided \n",
    "        s_NumSat_Sim[i+j+2] = int((abs((s_NumSat_Sim[i+j+1] + u_SkyAngle_Sim[i+j] - u_SkyAngle_Sim[i+j+1] + d)) * (1-s_Jam_Sim[i+j+1]) * u_Power_Sim[i+j+1]))\n",
    "        \n",
    "        # storing what the planner had predicted for the states\n",
    "        s_NumSat_Plan[i+j+2] = int(prob.get_valued_variable ('s_NumSat')[j+2])\n",
    "        s_Jam_Plan[i+j+2] = int(prob.get_valued_variable ('s_Jam')[j+2])\n",
    "    \n",
    "    # house keeping for the interplay of the inner and outer loop (you can ignore these)\n",
    "    i = i + T_Opt + 1    \n",
    "    u_Power_Sim[i] = u_Power_Sim[i - 1]\n",
    "    u_SkyAngle_Sim[i] = u_SkyAngle_Sim[i - 1]\n",
    "    s_NumSat_Sim[i+1] = s_NumSat_Sim[i]\n",
    "    s_Jam_Sim[i+1] = s_Jam_Sim[i]\n",
    "    s_NumSat_Plan [i+1] = s_NumSat_Plan [i] \n",
    "    s_Jam_Plan[i+1] = s_Jam_Plan[i]\n",
    "\n"
   ]
  },
  {
   "cell_type": "code",
   "execution_count": null,
   "metadata": {},
   "outputs": [],
   "source": []
  },
  {
   "cell_type": "code",
   "execution_count": 40,
   "metadata": {
    "scrolled": false
   },
   "outputs": [
    {
     "data": {
      "image/png": "[encoded data removed]",
      "text/plain": [
       "<matplotlib.figure.Figure at 0x115f2d810>"
      ]
     },
     "metadata": {},
     "output_type": "display_data"
    },
    {
     "data": {
      "image/png": "[encoded data removed]",
      "text/plain": [
       "<matplotlib.figure.Figure at 0x115bbdc10>"
      ]
     },
     "metadata": {},
     "output_type": "display_data"
    },
    {
     "data": {
      "image/png": "[encoded data removed]",
      "text/plain": [
       "<matplotlib.figure.Figure at 0x115f10450>"
      ]
     },
     "metadata": {},
     "output_type": "display_data"
    },
    {
     "data": {
      "image/png": "[encoded data removed]",
      "text/plain": [
       "<matplotlib.figure.Figure at 0x116214610>"
      ]
     },
     "metadata": {},
     "output_type": "display_data"
    },
    {
     "data": {
      "image/png": "[encoded data removed]",
      "text/plain": [
       "<matplotlib.figure.Figure at 0x1163a76d0>"
      ]
     },
     "metadata": {},
     "output_type": "display_data"
    },
    {
     "data": {
      "image/png": "[encoded data removed]",
      "text/plain": [
       "<matplotlib.figure.Figure at 0x116214e90>"
      ]
     },
     "metadata": {},
     "output_type": "display_data"
    }
   ],
   "source": [
    "# Plotting the results\n",
    "plt.plot(s_NumSat_Sim)\n",
    "plt.ylabel('Number of actual Satellites')\n",
    "plt.xlabel('Time (Seconds)')\n",
    "#plt.axis([0, size_Sim, 0, 17])\n",
    "plt.show()\n",
    "\n",
    "plt.plot(s_NumSat_Plan,'c')\n",
    "plt.ylabel('Number of Satellites Predicted by Planner')\n",
    "plt.xlabel('Time (Seconds)')\n",
    "#plt.axis([0, size_Sim, 0, 17])\n",
    "plt.show()\n",
    "\n",
    "plt.plot(u_SkyAngle_Sim, 'k')\n",
    "plt.ylabel('Sky Angle Decision')\n",
    "plt.xlabel('Time (Seconds)')\n",
    "plt.axis([0, size_Sim, 0, 11])\n",
    "plt.show()\n",
    "\n",
    "plt.plot(s_Jam_Sim, 'r')\n",
    "plt.ylabel('GPS Jam state')\n",
    "plt.xlabel('Time (Seconds)')\n",
    "plt.show()\n",
    "\n",
    "plt.plot(s_Jam_Plan, 'r')\n",
    "plt.ylabel('GPS Jam state predicted by planner')\n",
    "plt.xlabel('Time (Seconds)')\n",
    "plt.show()\n",
    "\n",
    "plt.plot(u_Power_Sim, 'g')\n",
    "plt.ylabel('GPS On/Off  Decision')\n",
    "plt.xlabel('Time (Seconds)')\n",
    "plt.show()\n"
   ]
  },
  {
   "cell_type": "code",
   "execution_count": null,
   "metadata": {},
   "outputs": [],
   "source": []
  },
  {
   "cell_type": "code",
   "execution_count": null,
   "metadata": {},
   "outputs": [],
   "source": []
  },
  {
   "cell_type": "code",
   "execution_count": null,
   "metadata": {},
   "outputs": [],
   "source": []
  },
  {
   "cell_type": "code",
   "execution_count": null,
   "metadata": {},
   "outputs": [],
   "source": []
  },
  {
   "cell_type": "markdown",
   "metadata": {},
   "source": [
    "## "
   ]
  }
 ],
 "metadata": {
  "kernelspec": {
   "display_name": "Python 2",
   "language": "python",
   "name": "python2"
  },
  "language_info": {
   "codemirror_mode": {
    "name": "ipython",
    "version": 2
   },
   "file_extension": ".py",
   "mimetype": "text/x-python",
   "name": "python",
   "nbconvert_exporter": "python",
   "pygments_lexer": "ipython2",
   "version": "2.7.14"
  }
 },
 "nbformat": 4,
 "nbformat_minor": 2
}
